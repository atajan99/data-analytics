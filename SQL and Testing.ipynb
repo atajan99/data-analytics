{
 "cells": [
  {
   "cell_type": "raw",
   "metadata": {},
   "source": [
    "Author: Atajan Abdyyev\n",
    "Date: 1/16/2021\n",
    "Project: Final"
   ]
  },
  {
   "cell_type": "markdown",
   "metadata": {},
   "source": [
    "Please find my google drive files through following URL:\n",
    "    https://drive.google.com/drive/folders/12MCQNKOnWSHkds-BmD2QeK45rgxhdMe5?usp=sharing"
   ]
  },
  {
   "cell_type": "code",
   "execution_count": null,
   "metadata": {},
   "outputs": [],
   "source": []
  },
  {
   "cell_type": "markdown",
   "metadata": {},
   "source": [
    "<b>Anton's comments:</b> Hello Atajan! Please change the way you have sent the project. You need to upload the ipynb with decomposition + EDA as a project, then add the link to the presentation and tableau as a separate cell"
   ]
  },
  {
   "cell_type": "markdown",
   "metadata": {},
   "source": [
    "# Scope of the Project\n",
    "Analyze the store's loyalty program.\n",
    "1. Carry out exploratory analysis\n",
    "2. Analyze the loyalty program\n",
    "3. Formulate and test statistical hypotheses\n"
   ]
  },
  {
   "cell_type": "markdown",
   "metadata": {},
   "source": [
    "## Tasks of the project\n",
    "#### Questions:\n",
    "1. Are we identifying the difference in churn between loyalty members and regular customers?\n",
    "2. Are we identifying the difference in revenue between loyalty members and regular customers?\n",
    "3. Are we running an A/B test to test our hypotheses?\n",
    "4. Should we use Tableau to develop the dashboards/visualizations?"
   ]
  },
  {
   "cell_type": "markdown",
   "metadata": {},
   "source": [
    "## Answers\n",
    "1. It is not stated if you should in task. Do so if you feel that this is needed.\n",
    "2. Same answer here\n",
    "3. A/B testing is another task, please look into it later\n",
    "4. Would be good if you do"
   ]
  },
  {
   "cell_type": "markdown",
   "metadata": {},
   "source": [
    "## Step 1: Preprocess Data\n",
    "The dataset contains data on purchases made at the building-material retailer Home World. All of its customers have membership cards. Moreover, they can become members of the store's loyalty program for $20 per month. The program includes discounts, information on special offers, and gifts.\n",
    " \n",
    "`retail_dataset_us.csv` contains:\n",
    " \n",
    "- `purchaseId`\n",
    "- `item_ID`\n",
    "- `purchasedate`\n",
    "- `Quantity` — the number of items in the purchase\n",
    "- `CustomerID`\n",
    "- `ShopID`\n",
    "- `loyalty_program` — whether the customer is a member of the loyalty program\n",
    " \n",
    "`product_codes_us.csv` contains:\n",
    " \n",
    "- `productID`\n",
    "- `price_per_one`\n",
    "\n",
    "<br>File path: /datasets/retail_dataset_us.csv. Download the dataset.\n",
    "<br>File path: /datasets/product_codes_us.csv. Download the dataset.\n"
   ]
  },
  {
   "cell_type": "code",
   "execution_count": 1,
   "metadata": {},
   "outputs": [
    {
     "name": "stdout",
     "output_type": "stream",
     "text": [
      "-*-*-*--*-*-*--*-*-*--*-*-*--*-*-*--*-*-*--*-*-*--*-*-*--*-*-*--*-*-*--*-*-*--*-*-*--*-*-*--*-*-*--*-*-*-\n"
     ]
    },
    {
     "data": {
      "text/plain": [
       "'Retail file info below'"
      ]
     },
     "metadata": {},
     "output_type": "display_data"
    },
    {
     "data": {
      "text/html": [
       "<div>\n",
       "<style scoped>\n",
       "    .dataframe tbody tr th:only-of-type {\n",
       "        vertical-align: middle;\n",
       "    }\n",
       "\n",
       "    .dataframe tbody tr th {\n",
       "        vertical-align: top;\n",
       "    }\n",
       "\n",
       "    .dataframe thead th {\n",
       "        text-align: right;\n",
       "    }\n",
       "</style>\n",
       "<table border=\"1\" class=\"dataframe\">\n",
       "  <thead>\n",
       "    <tr style=\"text-align: right;\">\n",
       "      <th></th>\n",
       "      <th>purchase_id</th>\n",
       "      <th>item_id</th>\n",
       "      <th>quantity</th>\n",
       "      <th>purchase_date</th>\n",
       "      <th>customer_id</th>\n",
       "      <th>loyalty_program</th>\n",
       "      <th>shop_id</th>\n",
       "    </tr>\n",
       "  </thead>\n",
       "  <tbody>\n",
       "    <tr>\n",
       "      <td>0</td>\n",
       "      <td>538280</td>\n",
       "      <td>21873</td>\n",
       "      <td>11</td>\n",
       "      <td>2016-12-10 12:50:00</td>\n",
       "      <td>18427.0</td>\n",
       "      <td>0</td>\n",
       "      <td>Shop 3</td>\n",
       "    </tr>\n",
       "    <tr>\n",
       "      <td>1</td>\n",
       "      <td>538862</td>\n",
       "      <td>22195</td>\n",
       "      <td>0</td>\n",
       "      <td>2016-12-14 14:11:00</td>\n",
       "      <td>22389.0</td>\n",
       "      <td>1</td>\n",
       "      <td>Shop 2</td>\n",
       "    </tr>\n",
       "    <tr>\n",
       "      <td>2</td>\n",
       "      <td>538855</td>\n",
       "      <td>21239</td>\n",
       "      <td>7</td>\n",
       "      <td>2016-12-14 13:50:00</td>\n",
       "      <td>22182.0</td>\n",
       "      <td>1</td>\n",
       "      <td>Shop 3</td>\n",
       "    </tr>\n",
       "    <tr>\n",
       "      <td>3</td>\n",
       "      <td>543543</td>\n",
       "      <td>22271</td>\n",
       "      <td>0</td>\n",
       "      <td>2017-02-09 15:33:00</td>\n",
       "      <td>23522.0</td>\n",
       "      <td>1</td>\n",
       "      <td>Shop 28</td>\n",
       "    </tr>\n",
       "    <tr>\n",
       "      <td>4</td>\n",
       "      <td>543812</td>\n",
       "      <td>79321</td>\n",
       "      <td>0</td>\n",
       "      <td>2017-02-13 14:40:00</td>\n",
       "      <td>23151.0</td>\n",
       "      <td>1</td>\n",
       "      <td>Shop 28</td>\n",
       "    </tr>\n",
       "  </tbody>\n",
       "</table>\n",
       "</div>"
      ],
      "text/plain": [
       "  purchase_id item_id  quantity        purchase_date  customer_id  \\\n",
       "0      538280   21873        11  2016-12-10 12:50:00      18427.0   \n",
       "1      538862   22195         0  2016-12-14 14:11:00      22389.0   \n",
       "2      538855   21239         7  2016-12-14 13:50:00      22182.0   \n",
       "3      543543   22271         0  2017-02-09 15:33:00      23522.0   \n",
       "4      543812   79321         0  2017-02-13 14:40:00      23151.0   \n",
       "\n",
       "   loyalty_program  shop_id  \n",
       "0                0   Shop 3  \n",
       "1                1   Shop 2  \n",
       "2                1   Shop 3  \n",
       "3                1  Shop 28  \n",
       "4                1  Shop 28  "
      ]
     },
     "metadata": {},
     "output_type": "display_data"
    },
    {
     "name": "stdout",
     "output_type": "stream",
     "text": [
      "<class 'pandas.core.frame.DataFrame'>\n",
      "RangeIndex: 105335 entries, 0 to 105334\n",
      "Data columns (total 7 columns):\n",
      "purchase_id        105335 non-null object\n",
      "item_id            105335 non-null object\n",
      "quantity           105335 non-null int64\n",
      "purchase_date      105335 non-null object\n",
      "customer_id        69125 non-null float64\n",
      "loyalty_program    105335 non-null int64\n",
      "shop_id            105335 non-null object\n",
      "dtypes: float64(1), int64(2), object(4)\n",
      "memory usage: 5.6+ MB\n"
     ]
    },
    {
     "data": {
      "text/plain": [
       "None"
      ]
     },
     "metadata": {},
     "output_type": "display_data"
    },
    {
     "name": "stdout",
     "output_type": "stream",
     "text": [
      "-*-*-*--*-*-*--*-*-*--*-*-*--*-*-*--*-*-*--*-*-*--*-*-*--*-*-*--*-*-*--*-*-*--*-*-*--*-*-*--*-*-*--*-*-*-\n"
     ]
    },
    {
     "data": {
      "text/plain": [
       "'Products file info below'"
      ]
     },
     "metadata": {},
     "output_type": "display_data"
    },
    {
     "data": {
      "text/html": [
       "<div>\n",
       "<style scoped>\n",
       "    .dataframe tbody tr th:only-of-type {\n",
       "        vertical-align: middle;\n",
       "    }\n",
       "\n",
       "    .dataframe tbody tr th {\n",
       "        vertical-align: top;\n",
       "    }\n",
       "\n",
       "    .dataframe thead th {\n",
       "        text-align: right;\n",
       "    }\n",
       "</style>\n",
       "<table border=\"1\" class=\"dataframe\">\n",
       "  <thead>\n",
       "    <tr style=\"text-align: right;\">\n",
       "      <th></th>\n",
       "      <th>product_id</th>\n",
       "      <th>price_per_one</th>\n",
       "    </tr>\n",
       "  </thead>\n",
       "  <tbody>\n",
       "    <tr>\n",
       "      <td>0</td>\n",
       "      <td>10002</td>\n",
       "      <td>0.85</td>\n",
       "    </tr>\n",
       "    <tr>\n",
       "      <td>1</td>\n",
       "      <td>10080</td>\n",
       "      <td>0.85</td>\n",
       "    </tr>\n",
       "    <tr>\n",
       "      <td>2</td>\n",
       "      <td>10120</td>\n",
       "      <td>0.21</td>\n",
       "    </tr>\n",
       "    <tr>\n",
       "      <td>3</td>\n",
       "      <td>10123C</td>\n",
       "      <td>0.65</td>\n",
       "    </tr>\n",
       "    <tr>\n",
       "      <td>4</td>\n",
       "      <td>10124A</td>\n",
       "      <td>0.42</td>\n",
       "    </tr>\n",
       "  </tbody>\n",
       "</table>\n",
       "</div>"
      ],
      "text/plain": [
       "  product_id  price_per_one\n",
       "0      10002           0.85\n",
       "1      10080           0.85\n",
       "2      10120           0.21\n",
       "3     10123C           0.65\n",
       "4     10124A           0.42"
      ]
     },
     "metadata": {},
     "output_type": "display_data"
    },
    {
     "name": "stdout",
     "output_type": "stream",
     "text": [
      "<class 'pandas.core.frame.DataFrame'>\n",
      "RangeIndex: 3159 entries, 0 to 3158\n",
      "Data columns (total 2 columns):\n",
      "product_id       3159 non-null object\n",
      "price_per_one    3159 non-null float64\n",
      "dtypes: float64(1), object(1)\n",
      "memory usage: 49.5+ KB\n"
     ]
    },
    {
     "data": {
      "text/plain": [
       "None"
      ]
     },
     "metadata": {},
     "output_type": "display_data"
    },
    {
     "name": "stdout",
     "output_type": "stream",
     "text": [
      "-*-*-*--*-*-*--*-*-*--*-*-*--*-*-*--*-*-*--*-*-*--*-*-*--*-*-*--*-*-*--*-*-*--*-*-*--*-*-*--*-*-*--*-*-*-\n"
     ]
    }
   ],
   "source": [
    "import os\n",
    "import pandas as pd\n",
    "import numpy as np\n",
    "import seaborn as sns\n",
    "import matplotlib.pyplot as plt\n",
    "\n",
    "#read files retail codes as retail, and product codes as products\n",
    "retail = pd.read_csv(\"https://code.s3.yandex.net/datasets/retail_dataset_us.csv\")\n",
    "products = pd.read_csv(\"https://code.s3.yandex.net/datasets/product_codes_us.csv\",sep=';')\n",
    "\n",
    "#lower all the column names for the uniformity\n",
    "products.columns= products.columns.str.lower()\n",
    "retail.columns= retail.columns.str.lower()\n",
    "\n",
    "#rename columns for better format\n",
    "products=products.rename(columns={\"productid\":\"product_id\"})\n",
    "retail=retail.rename(columns={\"purchaseid\":\"purchase_id\",\\\n",
    "                                  \"purchasedate\":\"purchase_date\",\"customerid\":\"customer_id\",\"shopid\":\"shop_id\"})\n",
    "\n",
    "\n",
    "#output top 5 rows for each file and types of files\n",
    "print('-*-*-*-'*15)\n",
    "display('Retail file info below')\n",
    "display(retail.head())\n",
    "display(retail.info())\n",
    "print('-*-*-*-'*15)\n",
    "display('Products file info below')\n",
    "display(products.head())\n",
    "display(products.info())\n",
    "print('-*-*-*-'*15)\n",
    "\n",
    "\n"
   ]
  },
  {
   "cell_type": "markdown",
   "metadata": {},
   "source": [
    "<b> Result:</b> <br>\n",
    "    \n",
    "    1.File saved as <b> retail </b> doesnt have any null missing values in both columns and has 3159 records. File types are acceptable format and there is no need to change their types. <br>\n",
    "\n",
    "    2.File saved as <b> products </b> has 105335 records and CustomerID column has missing values as we have only 69125 records. We will decide what to do with missing values records as we progress further in the evaluation of data. Rest columns have no missing data. Duplicate records will be checked in the box below.\n",
    "    \n",
    "    \n",
    "\n"
   ]
  },
  {
   "cell_type": "code",
   "execution_count": 2,
   "metadata": {},
   "outputs": [
    {
     "name": "stdout",
     "output_type": "stream",
     "text": [
      "Number of duplicates in the products file: 0\n",
      "Number of duplicates in the retail file: 1033\n"
     ]
    },
    {
     "data": {
      "text/html": [
       "<div>\n",
       "<style scoped>\n",
       "    .dataframe tbody tr th:only-of-type {\n",
       "        vertical-align: middle;\n",
       "    }\n",
       "\n",
       "    .dataframe tbody tr th {\n",
       "        vertical-align: top;\n",
       "    }\n",
       "\n",
       "    .dataframe thead th {\n",
       "        text-align: right;\n",
       "    }\n",
       "</style>\n",
       "<table border=\"1\" class=\"dataframe\">\n",
       "  <thead>\n",
       "    <tr style=\"text-align: right;\">\n",
       "      <th></th>\n",
       "      <th>product_id</th>\n",
       "      <th>price_per_one</th>\n",
       "    </tr>\n",
       "  </thead>\n",
       "  <tbody>\n",
       "    <tr>\n",
       "      <td>0</td>\n",
       "      <td>10002</td>\n",
       "      <td>0.85</td>\n",
       "    </tr>\n",
       "    <tr>\n",
       "      <td>1</td>\n",
       "      <td>10080</td>\n",
       "      <td>0.85</td>\n",
       "    </tr>\n",
       "    <tr>\n",
       "      <td>2</td>\n",
       "      <td>10120</td>\n",
       "      <td>0.21</td>\n",
       "    </tr>\n",
       "    <tr>\n",
       "      <td>3</td>\n",
       "      <td>10123C</td>\n",
       "      <td>0.65</td>\n",
       "    </tr>\n",
       "    <tr>\n",
       "      <td>4</td>\n",
       "      <td>10124A</td>\n",
       "      <td>0.42</td>\n",
       "    </tr>\n",
       "  </tbody>\n",
       "</table>\n",
       "</div>"
      ],
      "text/plain": [
       "  product_id  price_per_one\n",
       "0      10002           0.85\n",
       "1      10080           0.85\n",
       "2      10120           0.21\n",
       "3     10123C           0.65\n",
       "4     10124A           0.42"
      ]
     },
     "metadata": {},
     "output_type": "display_data"
    }
   ],
   "source": [
    "#counting duplicates\n",
    "dups =len(products)-len(products.drop_duplicates())\n",
    "# products.drop_duplicates(keep=False,inplace=True) \n",
    "print('Number of duplicates in the products file:', dups)\n",
    "\n",
    "dups =len(retail)-len(retail.drop_duplicates())\n",
    "print('Number of duplicates in the retail file:',dups)\n",
    "\n",
    "#drop duplicate files\n",
    "products.drop_duplicates(keep=False,inplace=True) \n",
    "display(products.head())"
   ]
  },
  {
   "cell_type": "markdown",
   "metadata": {},
   "source": [
    "Result: There are 1033 duplicate records in the products file and we don't need to keep them  and it will not be a big loss of data since we have 105335 records. "
   ]
  },
  {
   "cell_type": "code",
   "execution_count": 3,
   "metadata": {},
   "outputs": [
    {
     "data": {
      "text/html": [
       "<div>\n",
       "<style scoped>\n",
       "    .dataframe tbody tr th:only-of-type {\n",
       "        vertical-align: middle;\n",
       "    }\n",
       "\n",
       "    .dataframe tbody tr th {\n",
       "        vertical-align: top;\n",
       "    }\n",
       "\n",
       "    .dataframe thead th {\n",
       "        text-align: right;\n",
       "    }\n",
       "</style>\n",
       "<table border=\"1\" class=\"dataframe\">\n",
       "  <thead>\n",
       "    <tr style=\"text-align: right;\">\n",
       "      <th></th>\n",
       "      <th>purchase_id</th>\n",
       "      <th>item_id</th>\n",
       "      <th>quantity</th>\n",
       "      <th>purchase_date</th>\n",
       "      <th>customer_id</th>\n",
       "      <th>loyalty_program</th>\n",
       "      <th>shop_id</th>\n",
       "    </tr>\n",
       "  </thead>\n",
       "  <tbody>\n",
       "    <tr>\n",
       "      <td>0</td>\n",
       "      <td>538280</td>\n",
       "      <td>21873</td>\n",
       "      <td>11</td>\n",
       "      <td>2016-12-10</td>\n",
       "      <td>18427</td>\n",
       "      <td>0</td>\n",
       "      <td>Shop 3</td>\n",
       "    </tr>\n",
       "    <tr>\n",
       "      <td>1</td>\n",
       "      <td>538862</td>\n",
       "      <td>22195</td>\n",
       "      <td>0</td>\n",
       "      <td>2016-12-14</td>\n",
       "      <td>22389</td>\n",
       "      <td>1</td>\n",
       "      <td>Shop 2</td>\n",
       "    </tr>\n",
       "    <tr>\n",
       "      <td>2</td>\n",
       "      <td>538855</td>\n",
       "      <td>21239</td>\n",
       "      <td>7</td>\n",
       "      <td>2016-12-14</td>\n",
       "      <td>22182</td>\n",
       "      <td>1</td>\n",
       "      <td>Shop 3</td>\n",
       "    </tr>\n",
       "    <tr>\n",
       "      <td>3</td>\n",
       "      <td>543543</td>\n",
       "      <td>22271</td>\n",
       "      <td>0</td>\n",
       "      <td>2017-02-09</td>\n",
       "      <td>23522</td>\n",
       "      <td>1</td>\n",
       "      <td>Shop 28</td>\n",
       "    </tr>\n",
       "    <tr>\n",
       "      <td>4</td>\n",
       "      <td>543812</td>\n",
       "      <td>79321</td>\n",
       "      <td>0</td>\n",
       "      <td>2017-02-13</td>\n",
       "      <td>23151</td>\n",
       "      <td>1</td>\n",
       "      <td>Shop 28</td>\n",
       "    </tr>\n",
       "  </tbody>\n",
       "</table>\n",
       "</div>"
      ],
      "text/plain": [
       "  purchase_id item_id  quantity purchase_date  customer_id  loyalty_program  \\\n",
       "0      538280   21873        11    2016-12-10        18427                0   \n",
       "1      538862   22195         0    2016-12-14        22389                1   \n",
       "2      538855   21239         7    2016-12-14        22182                1   \n",
       "3      543543   22271         0    2017-02-09        23522                1   \n",
       "4      543812   79321         0    2017-02-13        23151                1   \n",
       "\n",
       "   shop_id  \n",
       "0   Shop 3  \n",
       "1   Shop 2  \n",
       "2   Shop 3  \n",
       "3  Shop 28  \n",
       "4  Shop 28  "
      ]
     },
     "metadata": {},
     "output_type": "display_data"
    },
    {
     "data": {
      "text/html": [
       "<div>\n",
       "<style scoped>\n",
       "    .dataframe tbody tr th:only-of-type {\n",
       "        vertical-align: middle;\n",
       "    }\n",
       "\n",
       "    .dataframe tbody tr th {\n",
       "        vertical-align: top;\n",
       "    }\n",
       "\n",
       "    .dataframe thead th {\n",
       "        text-align: right;\n",
       "    }\n",
       "</style>\n",
       "<table border=\"1\" class=\"dataframe\">\n",
       "  <thead>\n",
       "    <tr style=\"text-align: right;\">\n",
       "      <th></th>\n",
       "      <th>purchase_id</th>\n",
       "      <th>item_id</th>\n",
       "      <th>quantity</th>\n",
       "      <th>purchase_date</th>\n",
       "      <th>customer_id</th>\n",
       "      <th>loyalty_program</th>\n",
       "      <th>shop_id</th>\n",
       "    </tr>\n",
       "  </thead>\n",
       "  <tbody>\n",
       "    <tr>\n",
       "      <td>77499</td>\n",
       "      <td>541592</td>\n",
       "      <td>15034</td>\n",
       "      <td>1</td>\n",
       "      <td>2017-01-19</td>\n",
       "      <td>0</td>\n",
       "      <td>0</td>\n",
       "      <td>Shop 0</td>\n",
       "    </tr>\n",
       "    <tr>\n",
       "      <td>30526</td>\n",
       "      <td>541999</td>\n",
       "      <td>40001</td>\n",
       "      <td>0</td>\n",
       "      <td>2017-01-25</td>\n",
       "      <td>0</td>\n",
       "      <td>0</td>\n",
       "      <td>Shop 0</td>\n",
       "    </tr>\n",
       "    <tr>\n",
       "      <td>71164</td>\n",
       "      <td>540681</td>\n",
       "      <td>22906</td>\n",
       "      <td>0</td>\n",
       "      <td>2017-01-10</td>\n",
       "      <td>0</td>\n",
       "      <td>0</td>\n",
       "      <td>Shop 0</td>\n",
       "    </tr>\n",
       "    <tr>\n",
       "      <td>71155</td>\n",
       "      <td>537839</td>\n",
       "      <td>21174</td>\n",
       "      <td>0</td>\n",
       "      <td>2016-12-08</td>\n",
       "      <td>0</td>\n",
       "      <td>0</td>\n",
       "      <td>Shop 0</td>\n",
       "    </tr>\n",
       "    <tr>\n",
       "      <td>30531</td>\n",
       "      <td>542624</td>\n",
       "      <td>75049L</td>\n",
       "      <td>0</td>\n",
       "      <td>2017-01-31</td>\n",
       "      <td>0</td>\n",
       "      <td>0</td>\n",
       "      <td>Shop 0</td>\n",
       "    </tr>\n",
       "    <tr>\n",
       "      <td>...</td>\n",
       "      <td>...</td>\n",
       "      <td>...</td>\n",
       "      <td>...</td>\n",
       "      <td>...</td>\n",
       "      <td>...</td>\n",
       "      <td>...</td>\n",
       "      <td>...</td>\n",
       "    </tr>\n",
       "    <tr>\n",
       "      <td>25397</td>\n",
       "      <td>545079</td>\n",
       "      <td>20969</td>\n",
       "      <td>0</td>\n",
       "      <td>2017-02-28</td>\n",
       "      <td>23962</td>\n",
       "      <td>1</td>\n",
       "      <td>Shop 21</td>\n",
       "    </tr>\n",
       "    <tr>\n",
       "      <td>76723</td>\n",
       "      <td>541854</td>\n",
       "      <td>22147</td>\n",
       "      <td>0</td>\n",
       "      <td>2017-01-23</td>\n",
       "      <td>23962</td>\n",
       "      <td>1</td>\n",
       "      <td>Shop 28</td>\n",
       "    </tr>\n",
       "    <tr>\n",
       "      <td>5317</td>\n",
       "      <td>540350</td>\n",
       "      <td>85099F</td>\n",
       "      <td>0</td>\n",
       "      <td>2017-01-06</td>\n",
       "      <td>23962</td>\n",
       "      <td>1</td>\n",
       "      <td>Shop 10</td>\n",
       "    </tr>\n",
       "    <tr>\n",
       "      <td>100801</td>\n",
       "      <td>540350</td>\n",
       "      <td>22068</td>\n",
       "      <td>1</td>\n",
       "      <td>2017-01-06</td>\n",
       "      <td>23962</td>\n",
       "      <td>1</td>\n",
       "      <td>Shop 10</td>\n",
       "    </tr>\n",
       "    <tr>\n",
       "      <td>75773</td>\n",
       "      <td>541854</td>\n",
       "      <td>22149</td>\n",
       "      <td>0</td>\n",
       "      <td>2017-01-23</td>\n",
       "      <td>23962</td>\n",
       "      <td>1</td>\n",
       "      <td>Shop 28</td>\n",
       "    </tr>\n",
       "  </tbody>\n",
       "</table>\n",
       "<p>105335 rows × 7 columns</p>\n",
       "</div>"
      ],
      "text/plain": [
       "       purchase_id item_id  quantity purchase_date  customer_id  \\\n",
       "77499       541592   15034         1    2017-01-19            0   \n",
       "30526       541999   40001         0    2017-01-25            0   \n",
       "71164       540681   22906         0    2017-01-10            0   \n",
       "71155       537839   21174         0    2016-12-08            0   \n",
       "30531       542624  75049L         0    2017-01-31            0   \n",
       "...            ...     ...       ...           ...          ...   \n",
       "25397       545079   20969         0    2017-02-28        23962   \n",
       "76723       541854   22147         0    2017-01-23        23962   \n",
       "5317        540350  85099F         0    2017-01-06        23962   \n",
       "100801      540350   22068         1    2017-01-06        23962   \n",
       "75773       541854   22149         0    2017-01-23        23962   \n",
       "\n",
       "        loyalty_program  shop_id  \n",
       "77499                 0   Shop 0  \n",
       "30526                 0   Shop 0  \n",
       "71164                 0   Shop 0  \n",
       "71155                 0   Shop 0  \n",
       "30531                 0   Shop 0  \n",
       "...                 ...      ...  \n",
       "25397                 1  Shop 21  \n",
       "76723                 1  Shop 28  \n",
       "5317                  1  Shop 10  \n",
       "100801                1  Shop 10  \n",
       "75773                 1  Shop 28  \n",
       "\n",
       "[105335 rows x 7 columns]"
      ]
     },
     "metadata": {},
     "output_type": "display_data"
    }
   ],
   "source": [
    "#fill in nan values of customer id with random values\n",
    "#another option, need to uncomment import random #retail['customer_id'] = retail['customer_id'].fillna(value=np.random.uniform(-99999, 0))\n",
    "\n",
    "#fill missing customer id with customer_id of 0, that way we know that customer_id 0 are all unknown customers \n",
    "retail['customer_id'] = retail['customer_id'].fillna(value='0')\n",
    "#convert date format to Year, month , day\n",
    "retail['purchase_date']=pd.to_datetime(retail['purchase_date']).dt.normalize()\n",
    "#products['purchase_date']\n",
    "#convert customer_id to integer\n",
    "#retail['customer_id']=pd.to_numeric(retail['customer_id'].round(1)) \n",
    "retail['customer_id']=retail['customer_id'].astype(int)\n",
    "display(retail.head())\n",
    "display(retail.sort_values(by='customer_id', ascending=True))\n",
    "retail['item_id']=pd.to_numeric(retail['item_id'],errors='coerce')\n"
   ]
  },
  {
   "cell_type": "markdown",
   "metadata": {},
   "source": [
    "<b>Result:</b>\n",
    "<br>\n",
    "    1. Converted date format to dates with no time, and converted customer_id to integer for better resentation. \n",
    "    2. Missing values for customer_id are all set to value of 0. That way we will know that any time we see customer_id of 0, those are unknown customers, perhaps the guest users. If senior analyst has better idea of taggin NAN values of customer ids, we can apply it too. "
   ]
  },
  {
   "cell_type": "code",
   "execution_count": null,
   "metadata": {},
   "outputs": [],
   "source": []
  },
  {
   "cell_type": "markdown",
   "metadata": {},
   "source": [
    "## Step 2: EDA"
   ]
  },
  {
   "cell_type": "markdown",
   "metadata": {},
   "source": [
    "    1.Look at the datasets: do they contain any missing features?  Are the dataypes correct?\n",
    "    2.Look at the mean feature values in two groups: for those who are loyalty program customers and for those who aren't (use the groupby() method).\n",
    "    3.Plot bar histograms and feature distributions for those who are loyalty program customers and for those who aren't.\n",
    "    4.Build a correlation matrix and display it.\n"
   ]
  },
  {
   "cell_type": "markdown",
   "metadata": {},
   "source": [
    "### 1.Look at the datasets: do they contain any missing features?  Are the dataypes correct?"
   ]
  },
  {
   "cell_type": "code",
   "execution_count": 4,
   "metadata": {},
   "outputs": [
    {
     "data": {
      "text/plain": [
       "'retail missing values:'"
      ]
     },
     "metadata": {},
     "output_type": "display_data"
    },
    {
     "data": {
      "text/plain": [
       "purchase_id            0\n",
       "item_id            14064\n",
       "quantity               0\n",
       "purchase_date          0\n",
       "customer_id            0\n",
       "loyalty_program        0\n",
       "shop_id                0\n",
       "dtype: int64"
      ]
     },
     "metadata": {},
     "output_type": "display_data"
    },
    {
     "data": {
      "text/plain": [
       "'products missing values:'"
      ]
     },
     "metadata": {},
     "output_type": "display_data"
    },
    {
     "data": {
      "text/plain": [
       "product_id       0\n",
       "price_per_one    0\n",
       "dtype: int64"
      ]
     },
     "metadata": {},
     "output_type": "display_data"
    },
    {
     "name": "stdout",
     "output_type": "stream",
     "text": [
      "<class 'pandas.core.frame.DataFrame'>\n",
      "RangeIndex: 105335 entries, 0 to 105334\n",
      "Data columns (total 7 columns):\n",
      "purchase_id        105335 non-null object\n",
      "item_id            91271 non-null float64\n",
      "quantity           105335 non-null int64\n",
      "purchase_date      105335 non-null datetime64[ns]\n",
      "customer_id        105335 non-null int64\n",
      "loyalty_program    105335 non-null int64\n",
      "shop_id            105335 non-null object\n",
      "dtypes: datetime64[ns](1), float64(1), int64(3), object(2)\n",
      "memory usage: 5.6+ MB\n"
     ]
    },
    {
     "data": {
      "text/plain": [
       "'retail data info:'"
      ]
     },
     "metadata": {},
     "output_type": "display_data"
    },
    {
     "data": {
      "text/plain": [
       "None"
      ]
     },
     "metadata": {},
     "output_type": "display_data"
    },
    {
     "name": "stdout",
     "output_type": "stream",
     "text": [
      "<class 'pandas.core.frame.DataFrame'>\n",
      "Int64Index: 3159 entries, 0 to 3158\n",
      "Data columns (total 2 columns):\n",
      "product_id       3159 non-null object\n",
      "price_per_one    3159 non-null float64\n",
      "dtypes: float64(1), object(1)\n",
      "memory usage: 74.0+ KB\n"
     ]
    },
    {
     "data": {
      "text/plain": [
       "'products data info:'"
      ]
     },
     "metadata": {},
     "output_type": "display_data"
    },
    {
     "data": {
      "text/plain": [
       "None"
      ]
     },
     "metadata": {},
     "output_type": "display_data"
    }
   ],
   "source": [
    "missing_retail = retail.isnull().sum()\n",
    "display('retail missing values:',missing_retail)\n",
    "missing_products=products.isnull().sum()\n",
    "display('products missing values:',missing_products)\n",
    "display('retail data info:',retail.info())\n",
    "display('products data info:',products.info())"
   ]
  },
  {
   "cell_type": "markdown",
   "metadata": {},
   "source": [
    "Result: There are no missing values in the products table under customerid column. Date fields are correctly converted into dates."
   ]
  },
  {
   "cell_type": "markdown",
   "metadata": {},
   "source": [
    "### 2.Look at the mean feature values in two groups: for those who are loyalty program customers and for those who aren't (use the groupby() method)."
   ]
  },
  {
   "cell_type": "code",
   "execution_count": 30,
   "metadata": {},
   "outputs": [
    {
     "data": {
      "text/plain": [
       "loyalty_program\n",
       "0    7.297351\n",
       "1    9.611819\n",
       "Name: quantity, dtype: float64"
      ]
     },
     "metadata": {},
     "output_type": "display_data"
    }
   ],
   "source": [
    "mean_retail = retail.groupby('loyalty_program')['quantity'].mean()\n",
    "display(mean_retail)\n",
    "\n"
   ]
  },
  {
   "cell_type": "markdown",
   "metadata": {},
   "source": [
    "Result: For Loyalty program of 0 average quantity is 7.3, while for program 1 average for quantity is 9.6"
   ]
  },
  {
   "cell_type": "markdown",
   "metadata": {},
   "source": [
    "### 3.Plot bar histograms and feature distributions for those who are loyalty program customers and for those who aren't."
   ]
  },
  {
   "cell_type": "code",
   "execution_count": 6,
   "metadata": {},
   "outputs": [
    {
     "data": {
      "image/png": "[encoded data removed]",
      "text/plain": [
       "<Figure size 432x288 with 1 Axes>"
      ]
     },
     "metadata": {
      "needs_background": "light"
     },
     "output_type": "display_data"
    }
   ],
   "source": [
    "retail.dropna()\n",
    "sns.barplot(x = 'loyalty_program',y='customer_id',  data = retail, palette = 'magma').set(title='customers per loyalty')\n",
    "plt.show()\n"
   ]
  },
  {
   "cell_type": "markdown",
   "metadata": {},
   "source": [
    "Result: There are far more customers in loyalty program 1, twice more. Over 20,000."
   ]
  },
  {
   "cell_type": "code",
   "execution_count": 7,
   "metadata": {},
   "outputs": [
    {
     "data": {
      "image/png": "[encoded data removed]",
      "text/plain": [
       "<Figure size 432x288 with 1 Axes>"
      ]
     },
     "metadata": {
      "needs_background": "light"
     },
     "output_type": "display_data"
    }
   ],
   "source": [
    "sns.barplot(x = 'loyalty_program',y='quantity',  data = retail, palette = 'magma').set(title='loyalty and quantity')\n",
    "plt.show()\n"
   ]
  },
  {
   "cell_type": "markdown",
   "metadata": {},
   "source": [
    "Result : as for quantity there again more values in loyalty program of 1 than in 0."
   ]
  },
  {
   "cell_type": "markdown",
   "metadata": {},
   "source": [
    "### 4. Build a correlation matrix and display it."
   ]
  },
  {
   "cell_type": "code",
   "execution_count": 8,
   "metadata": {},
   "outputs": [
    {
     "data": {
      "text/plain": [
       "[Text(0.5, 1, 'Correlation matrix')]"
      ]
     },
     "execution_count": 8,
     "metadata": {},
     "output_type": "execute_result"
    },
    {
     "data": {
      "image/png": "[encoded data removed]",
      "text/plain": [
       "<Figure size 432x288 with 2 Axes>"
      ]
     },
     "metadata": {
      "needs_background": "light"
     },
     "output_type": "display_data"
    }
   ],
   "source": [
    "corr = retail.corr()\n",
    "sns.heatmap(corr, mask=np.zeros_like(corr, dtype=np.bool), square=True).set(title='Correlation matrix')\n"
   ]
  },
  {
   "cell_type": "markdown",
   "metadata": {},
   "source": [
    "Result: As we see there is a visible correlation between customer_id and loyalty program. Not much correlation among other fields."
   ]
  },
  {
   "cell_type": "markdown",
   "metadata": {},
   "source": [
    "### 5.Analyze top and bottom products "
   ]
  },
  {
   "cell_type": "code",
   "execution_count": 28,
   "metadata": {},
   "outputs": [
    {
     "data": {
      "text/plain": [
       "<matplotlib.axes._subplots.AxesSubplot at 0x7f3f989f5490>"
      ]
     },
     "execution_count": 28,
     "metadata": {},
     "output_type": "execute_result"
    },
    {
     "data": {
      "image/png": "[encoded data removed]",
      "text/plain": [
       "<Figure size 432x288 with 1 Axes>"
      ]
     },
     "metadata": {
      "needs_background": "light"
     },
     "output_type": "display_data"
    }
   ],
   "source": [
    "plt.title('Top ordered items by item_id')\n",
    "retail['item_id'].value_counts().nlargest(5).plot.bar()"
   ]
  },
  {
   "cell_type": "markdown",
   "metadata": {},
   "source": [
    "Result: items 22423, 22469, 22720, 22961, 22470 are the most popular items in the written order. With range of 320 to 499 times ordered."
   ]
  },
  {
   "cell_type": "code",
   "execution_count": 29,
   "metadata": {},
   "outputs": [
    {
     "data": {
      "text/plain": [
       "<matplotlib.axes._subplots.AxesSubplot at 0x7f3f97db5790>"
      ]
     },
     "execution_count": 29,
     "metadata": {},
     "output_type": "execute_result"
    },
    {
     "data": {
      "image/png": "[encoded data removed]",
      "text/plain": [
       "<Figure size 432x288 with 1 Axes>"
      ]
     },
     "metadata": {
      "needs_background": "light"
     },
     "output_type": "display_data"
    }
   ],
   "source": [
    "plt.title('Least ordered items by item_id')\n",
    "retail['item_id'].value_counts().nsmallest(5).plot.bar()"
   ]
  },
  {
   "cell_type": "markdown",
   "metadata": {},
   "source": [
    "Result:Least ordered items are 22206, 35443, 84723, 20950, 90100. Perhaps we need to put them on sale."
   ]
  },
  {
   "cell_type": "markdown",
   "metadata": {},
   "source": [
    "## URL for Tableu project in the cell below."
   ]
  },
  {
   "cell_type": "markdown",
   "metadata": {},
   "source": [
    "A/B Tableu\n",
    "https://public.tableau.com/profile/atajan.abdyyev#!/vizhome/ABtest_16108492978820/Dashboard1?publish=yes\n",
    "\n",
    "Retail EDA Tableu\n",
    "https://public.tableau.com/profile/atajan.abdyyev#!/vizhome/retailloyaltyproject/DashboardforRetailLoyaltyProgramAnalysis?publish=yes\n",
    "\n"
   ]
  },
  {
   "cell_type": "markdown",
   "metadata": {},
   "source": [
    "## Conclusion"
   ]
  },
  {
   "cell_type": "markdown",
   "metadata": {},
   "source": [
    "1. There are no missing values in the products table under customerid column. Date fields are correctly converted into dates.\n",
    "\n",
    "2. For Loyalty program of 0 average quantity is 7.3, while for program 1 average for quantity is 9.6\n",
    "3. There are far more customers in loyalty program 1, twice more. Over 20,000.\n",
    "4. As we see there is a visible correlation between customer_id and loyalty program. Not much correlation among other fields.\n",
    "5. items 22423, 22469, 22720, 22961, 22470 are the most popular items in the written order. With range of 320 to 499 times ordered.\n",
    "6. Least ordered items are 22206, 35443, 84723, 20950, 90100. Perhaps we need to put them on sale."
   ]
  },
  {
   "cell_type": "code",
   "execution_count": null,
   "metadata": {},
   "outputs": [],
   "source": []
  },
  {
   "cell_type": "markdown",
   "metadata": {},
   "source": [
    "<b>Anton's comments:</b> Good job Atajan! Thank you for resubmitting the project the right way!\n",
    "<ul>\n",
    "    <li><b>Project -</b> Good structure, nice EDA and pretty graphs - I like it!</li>\n",
    "    <li><b>Presentation -</b> We are very low on time, so I will pass the presentation. But let's be honest - you can't throw in some screenshots to the guys you are reporting to - this does not look like a reasearh and devalues you (overall nicely done) job.</li>\n",
    "    <li><b>Dashboards -</b> Retail loyalty - I'd be happy to see more than 1 graph. The \"sheet 1\" header is also not needed. A/B test - Don't really understand the value of the number of events per day graph? Otherwise a nice dashboard!</li>\n",
    "    <li><b>Documentation -</b> I did not see the documentation part in your presentation. Seems that you have enough points to pass, but if I missed - please DM me so I add the points :)</li>\n",
    "</ul>\n",
    "<p>It was a pleasure working with you. Contact me whenever you need any assistance.</p>"
   ]
  },
  {
   "cell_type": "code",
   "execution_count": null,
   "metadata": {},
   "outputs": [],
   "source": []
  }
 ],
 "metadata": {
  "kernelspec": {
   "display_name": "Python 3",
   "language": "python",
   "name": "python3"
  },
  "language_info": {
   "codemirror_mode": {
    "name": "ipython",
    "version": 3
   },
   "file_extension": ".py",
   "mimetype": "text/x-python",
   "name": "python",
   "nbconvert_exporter": "python",
   "pygments_lexer": "ipython3",
   "version": "3.7.8"
  },
  "toc": {
   "base_numbering": 1,
   "nav_menu": {},
   "number_sections": true,
   "sideBar": true,
   "skip_h1_title": true,
   "title_cell": "Table of Contents",
   "title_sidebar": "Contents",
   "toc_cell": false,
   "toc_position": {},
   "toc_section_display": true,
   "toc_window_display": false
  }
 },
 "nbformat": 4,
 "nbformat_minor": 2
}
